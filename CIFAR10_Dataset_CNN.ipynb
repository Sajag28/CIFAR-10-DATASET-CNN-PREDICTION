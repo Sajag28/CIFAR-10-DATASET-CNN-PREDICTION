{
  "nbformat": 4,
  "nbformat_minor": 0,
  "metadata": {
    "colab": {
      "provenance": [],
      "authorship_tag": "ABX9TyP3zuhZuZ65eqz+aM3LMtso",
      "include_colab_link": true
    },
    "kernelspec": {
      "name": "python3",
      "display_name": "Python 3"
    },
    "language_info": {
      "name": "python"
    }
  },
  "cells": [
    {
      "cell_type": "markdown",
      "metadata": {
        "id": "view-in-github",
        "colab_type": "text"
      },
      "source": [
        "<a href=\"https://colab.research.google.com/github/Sajag28/CIFAR-10-DATASET-CNN-PREDICTION/blob/main/CIFAR10_Dataset_CNN.ipynb\" target=\"_parent\"><img src=\"https://colab.research.google.com/assets/colab-badge.svg\" alt=\"Open In Colab\"/></a>"
      ]
    },
    {
      "cell_type": "code",
      "execution_count": 1,
      "metadata": {
        "colab": {
          "base_uri": "https://localhost:8080/",
          "height": 482
        },
        "id": "pKsta83vFOGk",
        "outputId": "8a0d75b2-5e4b-412c-8b17-a21a3968671c"
      },
      "outputs": [
        {
          "output_type": "stream",
          "name": "stdout",
          "text": [
            "Downloading data from https://www.cs.toronto.edu/~kriz/cifar-10-python.tar.gz\n",
            "170498071/170498071 [==============================] - 2s 0us/step\n"
          ]
        },
        {
          "output_type": "execute_result",
          "data": {
            "text/plain": [
              "<matplotlib.image.AxesImage at 0x7e02c7810460>"
            ]
          },
          "metadata": {},
          "execution_count": 1
        },
        {
          "output_type": "display_data",
          "data": {
            "text/plain": [
              "<Figure size 640x480 with 1 Axes>"
            ],
            "image/png": "[encoded data removed]"
          },
          "metadata": {}
        }
      ],
      "source": [
        "import tensorflow as tf\n",
        "from tensorflow.keras import datasets,layers,models\n",
        "import matplotlib.pyplot as plt\n",
        "import numpy as np\n",
        "(X_train,y_train),(X_test,y_test)=datasets.cifar10.load_data()\n",
        "plt.imshow(X_train[2])"
      ]
    },
    {
      "cell_type": "code",
      "source": [
        "plt.imshow(X_train[1])"
      ],
      "metadata": {
        "colab": {
          "base_uri": "https://localhost:8080/",
          "height": 447
        },
        "id": "PP2hSN-PGPN1",
        "outputId": "eb4c7d81-3fd0-40c5-c1d7-a6c1f418ab4d"
      },
      "execution_count": 2,
      "outputs": [
        {
          "output_type": "execute_result",
          "data": {
            "text/plain": [
              "<matplotlib.image.AxesImage at 0x7e02bb5a64d0>"
            ]
          },
          "metadata": {},
          "execution_count": 2
        },
        {
          "output_type": "display_data",
          "data": {
            "text/plain": [
              "<Figure size 640x480 with 1 Axes>"
            ],
            "image/png": "[encoded data removed]"
          },
          "metadata": {}
        }
      ]
    },
    {
      "cell_type": "code",
      "source": [
        "def plot_sample(X,y,index):\n",
        "  plt.figure(figsize=(15,2))\n",
        "  plt.imshow(X_train[index])\n",
        ""
      ],
      "metadata": {
        "id": "1syJl-3OGb6K"
      },
      "execution_count": 3,
      "outputs": []
    },
    {
      "cell_type": "code",
      "source": [
        "y_train=y_train.reshape(-1,)\n",
        "y_train[:20]"
      ],
      "metadata": {
        "colab": {
          "base_uri": "https://localhost:8080/"
        },
        "id": "iRMxds7-HGVd",
        "outputId": "2abc4cc0-875c-4b3a-f140-2a7a8a903de3"
      },
      "execution_count": 26,
      "outputs": [
        {
          "output_type": "execute_result",
          "data": {
            "text/plain": [
              "array([6, 9, 9, 4, 1, 1, 2, 7, 8, 3, 4, 7, 7, 2, 9, 9, 9, 3, 2, 6],\n",
              "      dtype=uint8)"
            ]
          },
          "metadata": {},
          "execution_count": 26
        }
      ]
    },
    {
      "cell_type": "code",
      "source": [
        "classes=[\"airplane\",\"automobile\",\"bird\",\"cat\",\"deer\",\"dog\",\"frog\",\"horse\",\"ship\",\"truck\"]\n",
        "classes[9]"
      ],
      "metadata": {
        "colab": {
          "base_uri": "https://localhost:8080/",
          "height": 35
        },
        "id": "KZKpQeBIHlMX",
        "outputId": "66509626-b947-4d12-e5b9-a4bdef1ddce4"
      },
      "execution_count": 7,
      "outputs": [
        {
          "output_type": "execute_result",
          "data": {
            "text/plain": [
              "'truck'"
            ],
            "application/vnd.google.colaboratory.intrinsic+json": {
              "type": "string"
            }
          },
          "metadata": {},
          "execution_count": 7
        }
      ]
    },
    {
      "cell_type": "code",
      "source": [
        "def plot_sample(X,y,index):\n",
        "  plt.figure(figsize=(15,2))\n",
        "  plt.imshow(X[index])\n",
        "  plt.xlabel(classes[y[index]])\n",
        "\n",
        ""
      ],
      "metadata": {
        "id": "WCXboWIKIROj"
      },
      "execution_count": 9,
      "outputs": []
    },
    {
      "cell_type": "code",
      "source": [
        "plot_sample(X_train,y_train,2)"
      ],
      "metadata": {
        "colab": {
          "base_uri": "https://localhost:8080/",
          "height": 237
        },
        "id": "RICsIK6MIoaj",
        "outputId": "b5a9235f-cadb-4428-8e26-fb3e5f99545c"
      },
      "execution_count": 11,
      "outputs": [
        {
          "output_type": "display_data",
          "data": {
            "text/plain": [
              "<Figure size 1500x200 with 1 Axes>"
            ],
            "image/png": "[encoded data removed]"
          },
          "metadata": {}
        }
      ]
    },
    {
      "cell_type": "code",
      "source": [
        "X_train=X_train/255\n",
        "X_test=X_test/255"
      ],
      "metadata": {
        "id": "NquafvimIxeh"
      },
      "execution_count": 27,
      "outputs": []
    },
    {
      "cell_type": "code",
      "source": [
        "cnn=models.Sequential([\n",
        "    layers.Conv2D(filters=32,activation='relu',kernel_size=(3,3),input_shape=(32,32,3)),\n",
        "    layers.MaxPooling2D((2,2)),\n",
        "    layers.Conv2D(filters=64,activation='relu',kernel_size=(3,3)),\n",
        "    layers.MaxPooling2D((2,2)),\n",
        "    layers.Flatten(),\n",
        "    layers.Dense(64,activation='relu'),\n",
        "    layers.Dense(10,activation='softmax')\n",
        "])\n",
        "cnn.compile(optimizer='SGD',\n",
        "            loss='sparse_categorical_crossentropy',\n",
        "            metrics=['accuracy'])\n",
        "cnn.fit(X_train,y_train,epochs=15)"
      ],
      "metadata": {
        "colab": {
          "base_uri": "https://localhost:8080/"
        },
        "id": "WCyVr5mhLZFH",
        "outputId": "0082895e-7223-465b-ee5a-4561d4470b21"
      },
      "execution_count": 33,
      "outputs": [
        {
          "output_type": "stream",
          "name": "stdout",
          "text": [
            "Epoch 1/15\n",
            "1563/1563 [==============================] - 62s 39ms/step - loss: 1.9662 - accuracy: 0.2823\n",
            "Epoch 2/15\n",
            "1563/1563 [==============================] - 59s 38ms/step - loss: 1.5633 - accuracy: 0.4391\n",
            "Epoch 3/15\n",
            "1563/1563 [==============================] - 60s 38ms/step - loss: 1.4006 - accuracy: 0.5028\n",
            "Epoch 4/15\n",
            "1563/1563 [==============================] - 60s 38ms/step - loss: 1.3011 - accuracy: 0.5409\n",
            "Epoch 5/15\n",
            "1563/1563 [==============================] - 59s 38ms/step - loss: 1.2238 - accuracy: 0.5716\n",
            "Epoch 6/15\n",
            "1563/1563 [==============================] - 59s 38ms/step - loss: 1.1551 - accuracy: 0.5953\n",
            "Epoch 7/15\n",
            "1563/1563 [==============================] - 59s 38ms/step - loss: 1.0976 - accuracy: 0.6158\n",
            "Epoch 8/15\n",
            "1563/1563 [==============================] - 60s 38ms/step - loss: 1.0480 - accuracy: 0.6338\n",
            "Epoch 9/15\n",
            "1563/1563 [==============================] - 59s 38ms/step - loss: 1.0005 - accuracy: 0.6503\n",
            "Epoch 10/15\n",
            "1563/1563 [==============================] - 59s 38ms/step - loss: 0.9615 - accuracy: 0.6666\n",
            "Epoch 11/15\n",
            "1563/1563 [==============================] - 62s 40ms/step - loss: 0.9249 - accuracy: 0.6801\n",
            "Epoch 12/15\n",
            "1563/1563 [==============================] - 59s 38ms/step - loss: 0.8902 - accuracy: 0.6897\n",
            "Epoch 13/15\n",
            "1563/1563 [==============================] - 60s 38ms/step - loss: 0.8580 - accuracy: 0.7034\n",
            "Epoch 14/15\n",
            "1563/1563 [==============================] - 59s 38ms/step - loss: 0.8303 - accuracy: 0.7124\n",
            "Epoch 15/15\n",
            "1563/1563 [==============================] - 59s 38ms/step - loss: 0.8000 - accuracy: 0.7235\n"
          ]
        },
        {
          "output_type": "execute_result",
          "data": {
            "text/plain": [
              "<keras.src.callbacks.History at 0x7e02c4c9e3e0>"
            ]
          },
          "metadata": {},
          "execution_count": 33
        }
      ]
    },
    {
      "cell_type": "code",
      "source": [
        "cnn.evaluate(X_test,y_test)"
      ],
      "metadata": {
        "colab": {
          "base_uri": "https://localhost:8080/"
        },
        "id": "lxkm3F6eM6pG",
        "outputId": "1ddfa2b1-5d80-49f1-ba04-db72991bb0e3"
      },
      "execution_count": 34,
      "outputs": [
        {
          "output_type": "stream",
          "name": "stdout",
          "text": [
            "313/313 [==============================] - 4s 12ms/step - loss: 0.9838 - accuracy: 0.6596\n"
          ]
        },
        {
          "output_type": "execute_result",
          "data": {
            "text/plain": [
              "[0.983776867389679, 0.659600019454956]"
            ]
          },
          "metadata": {},
          "execution_count": 34
        }
      ]
    },
    {
      "cell_type": "code",
      "source": [
        "from sklearn.metrics import confusion_matrix,classification_report\n",
        "import numpy as np\n",
        "y_pred=cnn.predict(X_test)\n",
        "y_pred_classes=[np.argmax(element) for element in y_pred]\n",
        "\n",
        "print(\"Classification Report for Conv Neural Network\\n\",classification_report(y_test,y_pred_classes))"
      ],
      "metadata": {
        "colab": {
          "base_uri": "https://localhost:8080/"
        },
        "id": "NIj__-LfiFij",
        "outputId": "0da1ff78-8e67-4862-ea74-d2cb273b1bac"
      },
      "execution_count": 35,
      "outputs": [
        {
          "output_type": "stream",
          "name": "stdout",
          "text": [
            "313/313 [==============================] - 5s 14ms/step\n",
            "Classification Report for Conv Neural Network\n",
            "               precision    recall  f1-score   support\n",
            "\n",
            "           0       0.72      0.72      0.72      1000\n",
            "           1       0.86      0.68      0.76      1000\n",
            "           2       0.70      0.41      0.52      1000\n",
            "           3       0.53      0.41      0.46      1000\n",
            "           4       0.52      0.69      0.60      1000\n",
            "           5       0.53      0.66      0.59      1000\n",
            "           6       0.85      0.61      0.71      1000\n",
            "           7       0.66      0.78      0.71      1000\n",
            "           8       0.72      0.83      0.77      1000\n",
            "           9       0.66      0.80      0.72      1000\n",
            "\n",
            "    accuracy                           0.66     10000\n",
            "   macro avg       0.67      0.66      0.66     10000\n",
            "weighted avg       0.67      0.66      0.66     10000\n",
            "\n"
          ]
        }
      ]
    },
    {
      "cell_type": "code",
      "source": [],
      "metadata": {
        "id": "X3KdwqKenALG"
      },
      "execution_count": null,
      "outputs": []
    }
  ]
}